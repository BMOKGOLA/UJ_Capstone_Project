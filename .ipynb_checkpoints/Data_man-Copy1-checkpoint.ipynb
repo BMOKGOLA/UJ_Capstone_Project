{
 "cells": [
  {
   "cell_type": "code",
   "execution_count": 229,
   "id": "6fd70eb0-6d03-4dbe-9219-2e08bf353452",
   "metadata": {},
   "outputs": [],
   "source": [
    "import pandas as pd\n",
    "import numpy as np \n",
    "import matplotlib.pyplot as plt \n",
    "from sklearn.model_selection import train_test_split\n",
    "from sklearn.linear_model import LinearRegression  \n",
    "from sklearn import preprocessing\n",
    "from sklearn.preprocessing import StandardScaler\n",
    "from sklearn import metrics\n",
    "from sklearn.linear_model import LogisticRegression\n",
    "from sklearn.metrics import accuracy_score\n",
    "from sklearn.preprocessing import PolynomialFeatures"
   ]
  },
  {
   "cell_type": "code",
   "execution_count": 230,
   "id": "001cff05-c969-413d-8fe1-bac207789615",
   "metadata": {},
   "outputs": [
    {
     "data": {
      "text/html": [
       "<div>\n",
       "<style scoped>\n",
       "    .dataframe tbody tr th:only-of-type {\n",
       "        vertical-align: middle;\n",
       "    }\n",
       "\n",
       "    .dataframe tbody tr th {\n",
       "        vertical-align: top;\n",
       "    }\n",
       "\n",
       "    .dataframe thead th {\n",
       "        text-align: right;\n",
       "    }\n",
       "</style>\n",
       "<table border=\"1\" class=\"dataframe\">\n",
       "  <thead>\n",
       "    <tr style=\"text-align: right;\">\n",
       "      <th></th>\n",
       "      <th>Project Name</th>\n",
       "      <th>Cluster Name</th>\n",
       "      <th>Project Type</th>\n",
       "      <th>City</th>\n",
       "      <th>County</th>\n",
       "      <th>State</th>\n",
       "      <th>Digester Type</th>\n",
       "      <th>Status</th>\n",
       "      <th>Year Operational</th>\n",
       "      <th>Animal/Farm Type(s)</th>\n",
       "      <th>...</th>\n",
       "      <th>Electricity Generated (kWh/yr)</th>\n",
       "      <th>Biogas End Use(s)</th>\n",
       "      <th>LCFS Pathway?</th>\n",
       "      <th>System Designer(s)/Developer(s) and Affiliates</th>\n",
       "      <th>Receiving Utility</th>\n",
       "      <th>Total Emission Reductions (MTCO2e/yr)</th>\n",
       "      <th>Awarded USDA Funding?</th>\n",
       "      <th>Sheet</th>\n",
       "      <th>Year Shutdown</th>\n",
       "      <th>Reason for Closure</th>\n",
       "    </tr>\n",
       "  </thead>\n",
       "  <tbody>\n",
       "    <tr>\n",
       "      <th>0</th>\n",
       "      <td>Cargill - Sandy River Farm Digester</td>\n",
       "      <td>NaN</td>\n",
       "      <td>Farm Scale</td>\n",
       "      <td>Morrilton</td>\n",
       "      <td>Conway</td>\n",
       "      <td>AR</td>\n",
       "      <td>Covered Lagoon</td>\n",
       "      <td>Operational</td>\n",
       "      <td>2008.0</td>\n",
       "      <td>Swine</td>\n",
       "      <td>...</td>\n",
       "      <td>NaN</td>\n",
       "      <td>Flared Full-time</td>\n",
       "      <td>NaN</td>\n",
       "      <td>Martin Construction Resource LLC (formerly RCM...</td>\n",
       "      <td>NaN</td>\n",
       "      <td>4482.755303</td>\n",
       "      <td>NaN</td>\n",
       "      <td>Operational and Construction</td>\n",
       "      <td>NaN</td>\n",
       "      <td>NaN</td>\n",
       "    </tr>\n",
       "    <tr>\n",
       "      <th>1</th>\n",
       "      <td>Butterfield RNG Digester</td>\n",
       "      <td>NaN</td>\n",
       "      <td>Farm Scale</td>\n",
       "      <td>Buckeye</td>\n",
       "      <td>Maricopa</td>\n",
       "      <td>AZ</td>\n",
       "      <td>Mixed Plug Flow</td>\n",
       "      <td>Operational</td>\n",
       "      <td>2022.0</td>\n",
       "      <td>Dairy</td>\n",
       "      <td>...</td>\n",
       "      <td>NaN</td>\n",
       "      <td>Pipeline Gas</td>\n",
       "      <td>NaN</td>\n",
       "      <td>Avolta [Project Developer]; DVO, Inc. (formerl...</td>\n",
       "      <td>Southwest Gas</td>\n",
       "      <td>14030.128975</td>\n",
       "      <td>Yes</td>\n",
       "      <td>Operational and Construction</td>\n",
       "      <td>NaN</td>\n",
       "      <td>NaN</td>\n",
       "    </tr>\n",
       "    <tr>\n",
       "      <th>2</th>\n",
       "      <td>Caballero Dairy Farms Digester</td>\n",
       "      <td>NaN</td>\n",
       "      <td>Farm Scale</td>\n",
       "      <td>Eloy</td>\n",
       "      <td>Pinal</td>\n",
       "      <td>AZ</td>\n",
       "      <td>Unknown or Unspecified</td>\n",
       "      <td>Construction</td>\n",
       "      <td>2022.0</td>\n",
       "      <td>Dairy</td>\n",
       "      <td>...</td>\n",
       "      <td>NaN</td>\n",
       "      <td>Pipeline Gas</td>\n",
       "      <td>NaN</td>\n",
       "      <td>Brightmark [Project Developer]</td>\n",
       "      <td>NaN</td>\n",
       "      <td>98999.890159</td>\n",
       "      <td>NaN</td>\n",
       "      <td>Operational and Construction</td>\n",
       "      <td>NaN</td>\n",
       "      <td>NaN</td>\n",
       "    </tr>\n",
       "    <tr>\n",
       "      <th>3</th>\n",
       "      <td>Green Gas Partners Stanfield Digester</td>\n",
       "      <td>NaN</td>\n",
       "      <td>Centralized/Regional</td>\n",
       "      <td>Maricopa</td>\n",
       "      <td>Pinal</td>\n",
       "      <td>AZ</td>\n",
       "      <td>Complete Mix</td>\n",
       "      <td>Operational</td>\n",
       "      <td>2018.0</td>\n",
       "      <td>Dairy</td>\n",
       "      <td>...</td>\n",
       "      <td>NaN</td>\n",
       "      <td>Pipeline Gas</td>\n",
       "      <td>NaN</td>\n",
       "      <td>Equilibrium Capital [Project Developer]; Green...</td>\n",
       "      <td>Kinger Morgan El Paso</td>\n",
       "      <td>337499.625540</td>\n",
       "      <td>NaN</td>\n",
       "      <td>Operational and Construction</td>\n",
       "      <td>NaN</td>\n",
       "      <td>NaN</td>\n",
       "    </tr>\n",
       "    <tr>\n",
       "      <th>4</th>\n",
       "      <td>Paloma Dairy Digester</td>\n",
       "      <td>NaN</td>\n",
       "      <td>Farm Scale</td>\n",
       "      <td>Gila Bend</td>\n",
       "      <td>Maricopa</td>\n",
       "      <td>AZ</td>\n",
       "      <td>Complete Mix</td>\n",
       "      <td>Operational</td>\n",
       "      <td>2021.0</td>\n",
       "      <td>Dairy</td>\n",
       "      <td>...</td>\n",
       "      <td>NaN</td>\n",
       "      <td>CNG</td>\n",
       "      <td>NaN</td>\n",
       "      <td>Black Bear Environmental Assets [Project Devel...</td>\n",
       "      <td>Southwest Gas Company</td>\n",
       "      <td>100569.493399</td>\n",
       "      <td>NaN</td>\n",
       "      <td>Operational and Construction</td>\n",
       "      <td>NaN</td>\n",
       "      <td>NaN</td>\n",
       "    </tr>\n",
       "  </tbody>\n",
       "</table>\n",
       "<p>5 rows × 26 columns</p>\n",
       "</div>"
      ],
      "text/plain": [
       "                            Project Name Cluster Name          Project Type  \\\n",
       "0    Cargill - Sandy River Farm Digester          NaN            Farm Scale   \n",
       "1               Butterfield RNG Digester          NaN            Farm Scale   \n",
       "2         Caballero Dairy Farms Digester          NaN            Farm Scale   \n",
       "3  Green Gas Partners Stanfield Digester          NaN  Centralized/Regional   \n",
       "4                  Paloma Dairy Digester          NaN            Farm Scale   \n",
       "\n",
       "        City    County State           Digester Type        Status  \\\n",
       "0  Morrilton    Conway    AR          Covered Lagoon   Operational   \n",
       "1    Buckeye  Maricopa    AZ         Mixed Plug Flow   Operational   \n",
       "2       Eloy     Pinal    AZ  Unknown or Unspecified  Construction   \n",
       "3   Maricopa     Pinal    AZ            Complete Mix   Operational   \n",
       "4  Gila Bend  Maricopa    AZ            Complete Mix   Operational   \n",
       "\n",
       "   Year Operational Animal/Farm Type(s)  ...  Electricity Generated (kWh/yr)  \\\n",
       "0            2008.0               Swine  ...                             NaN   \n",
       "1            2022.0               Dairy  ...                             NaN   \n",
       "2            2022.0               Dairy  ...                             NaN   \n",
       "3            2018.0               Dairy  ...                             NaN   \n",
       "4            2021.0               Dairy  ...                             NaN   \n",
       "\n",
       "   Biogas End Use(s)  LCFS Pathway?  \\\n",
       "0   Flared Full-time            NaN   \n",
       "1       Pipeline Gas            NaN   \n",
       "2       Pipeline Gas            NaN   \n",
       "3       Pipeline Gas            NaN   \n",
       "4                CNG            NaN   \n",
       "\n",
       "      System Designer(s)/Developer(s) and Affiliates      Receiving Utility  \\\n",
       "0  Martin Construction Resource LLC (formerly RCM...                    NaN   \n",
       "1  Avolta [Project Developer]; DVO, Inc. (formerl...          Southwest Gas   \n",
       "2                     Brightmark [Project Developer]                    NaN   \n",
       "3  Equilibrium Capital [Project Developer]; Green...  Kinger Morgan El Paso   \n",
       "4  Black Bear Environmental Assets [Project Devel...  Southwest Gas Company   \n",
       "\n",
       "   Total Emission Reductions (MTCO2e/yr) Awarded USDA Funding?  \\\n",
       "0                            4482.755303                   NaN   \n",
       "1                           14030.128975                   Yes   \n",
       "2                           98999.890159                   NaN   \n",
       "3                          337499.625540                   NaN   \n",
       "4                          100569.493399                   NaN   \n",
       "\n",
       "                          Sheet Year Shutdown Reason for Closure  \n",
       "0  Operational and Construction           NaN                NaN  \n",
       "1  Operational and Construction           NaN                NaN  \n",
       "2  Operational and Construction           NaN                NaN  \n",
       "3  Operational and Construction           NaN                NaN  \n",
       "4  Operational and Construction           NaN                NaN  \n",
       "\n",
       "[5 rows x 26 columns]"
      ]
     },
     "execution_count": 230,
     "metadata": {},
     "output_type": "execute_result"
    }
   ],
   "source": [
    "data_0 = pd.read_excel(r\"C:\\Users\\billi\\Downloads\\Biogas Dataset\\agstar-livestock-ad-database-combined.xlsx\")\n",
    "data_0.head()"
   ]
  },
  {
   "cell_type": "code",
   "execution_count": 231,
   "id": "72264599-0782-4225-8e7b-ccefc798d5f3",
   "metadata": {},
   "outputs": [],
   "source": [
    "columns_to_drop = ['Project Name', 'Cluster Name', 'Project Type', 'City', 'County', 'State', 'Status', 'Year Operational', 'Electricity Generated (kWh/yr)', 'Biogas End Use(s)', 'LCFS Pathway?', 'System Designer(s)/Developer(s) and Affiliates', 'Receiving Utility', 'Awarded USDA Funding?', 'Sheet', 'Year Shutdown', 'Reason for Closure']\n",
    "data_0.drop(columns=columns_to_drop, inplace=True)"
   ]
  },
  {
   "cell_type": "code",
   "execution_count": 232,
   "id": "506e99ec-fd95-43fa-b6ce-888b97c07c96",
   "metadata": {},
   "outputs": [
    {
     "data": {
      "text/html": [
       "<div>\n",
       "<style scoped>\n",
       "    .dataframe tbody tr th:only-of-type {\n",
       "        vertical-align: middle;\n",
       "    }\n",
       "\n",
       "    .dataframe tbody tr th {\n",
       "        vertical-align: top;\n",
       "    }\n",
       "\n",
       "    .dataframe thead th {\n",
       "        text-align: right;\n",
       "    }\n",
       "</style>\n",
       "<table border=\"1\" class=\"dataframe\">\n",
       "  <thead>\n",
       "    <tr style=\"text-align: right;\">\n",
       "      <th></th>\n",
       "      <th>Digester Type</th>\n",
       "      <th>Animal/Farm Type(s)</th>\n",
       "      <th>Cattle</th>\n",
       "      <th>Dairy</th>\n",
       "      <th>Poultry</th>\n",
       "      <th>Swine</th>\n",
       "      <th>Co-Digestion</th>\n",
       "      <th>Biogas Generation Estimate (cu-ft/day)</th>\n",
       "      <th>Total Emission Reductions (MTCO2e/yr)</th>\n",
       "    </tr>\n",
       "  </thead>\n",
       "  <tbody>\n",
       "    <tr>\n",
       "      <th>0</th>\n",
       "      <td>Covered Lagoon</td>\n",
       "      <td>Swine</td>\n",
       "      <td>NaN</td>\n",
       "      <td>NaN</td>\n",
       "      <td>NaN</td>\n",
       "      <td>4200.0</td>\n",
       "      <td>NaN</td>\n",
       "      <td>1814400.0</td>\n",
       "      <td>4482.755303</td>\n",
       "    </tr>\n",
       "    <tr>\n",
       "      <th>1</th>\n",
       "      <td>Mixed Plug Flow</td>\n",
       "      <td>Dairy</td>\n",
       "      <td>NaN</td>\n",
       "      <td>11760.0</td>\n",
       "      <td>NaN</td>\n",
       "      <td>NaN</td>\n",
       "      <td>NaN</td>\n",
       "      <td>NaN</td>\n",
       "      <td>14030.128975</td>\n",
       "    </tr>\n",
       "    <tr>\n",
       "      <th>2</th>\n",
       "      <td>Unknown or Unspecified</td>\n",
       "      <td>Dairy</td>\n",
       "      <td>NaN</td>\n",
       "      <td>8800.0</td>\n",
       "      <td>NaN</td>\n",
       "      <td>NaN</td>\n",
       "      <td>NaN</td>\n",
       "      <td>NaN</td>\n",
       "      <td>98999.890159</td>\n",
       "    </tr>\n",
       "    <tr>\n",
       "      <th>3</th>\n",
       "      <td>Complete Mix</td>\n",
       "      <td>Dairy</td>\n",
       "      <td>NaN</td>\n",
       "      <td>30000.0</td>\n",
       "      <td>NaN</td>\n",
       "      <td>NaN</td>\n",
       "      <td>NaN</td>\n",
       "      <td>3454500.0</td>\n",
       "      <td>337499.625540</td>\n",
       "    </tr>\n",
       "    <tr>\n",
       "      <th>4</th>\n",
       "      <td>Complete Mix</td>\n",
       "      <td>Dairy</td>\n",
       "      <td>NaN</td>\n",
       "      <td>10000.0</td>\n",
       "      <td>NaN</td>\n",
       "      <td>NaN</td>\n",
       "      <td>NaN</td>\n",
       "      <td>NaN</td>\n",
       "      <td>100569.493399</td>\n",
       "    </tr>\n",
       "  </tbody>\n",
       "</table>\n",
       "</div>"
      ],
      "text/plain": [
       "            Digester Type Animal/Farm Type(s)  Cattle    Dairy  Poultry  \\\n",
       "0          Covered Lagoon               Swine     NaN      NaN      NaN   \n",
       "1         Mixed Plug Flow               Dairy     NaN  11760.0      NaN   \n",
       "2  Unknown or Unspecified               Dairy     NaN   8800.0      NaN   \n",
       "3            Complete Mix               Dairy     NaN  30000.0      NaN   \n",
       "4            Complete Mix               Dairy     NaN  10000.0      NaN   \n",
       "\n",
       "    Swine Co-Digestion  Biogas Generation Estimate (cu-ft/day)  \\\n",
       "0  4200.0          NaN                               1814400.0   \n",
       "1     NaN          NaN                                     NaN   \n",
       "2     NaN          NaN                                     NaN   \n",
       "3     NaN          NaN                               3454500.0   \n",
       "4     NaN          NaN                                     NaN   \n",
       "\n",
       "   Total Emission Reductions (MTCO2e/yr)  \n",
       "0                            4482.755303  \n",
       "1                           14030.128975  \n",
       "2                           98999.890159  \n",
       "3                          337499.625540  \n",
       "4                          100569.493399  "
      ]
     },
     "execution_count": 232,
     "metadata": {},
     "output_type": "execute_result"
    }
   ],
   "source": [
    "data_0.head()"
   ]
  },
  {
   "cell_type": "code",
   "execution_count": 233,
   "id": "b6c9ea90-2768-4669-9654-80dd4bab16c8",
   "metadata": {},
   "outputs": [
    {
     "data": {
      "text/html": [
       "<div>\n",
       "<style scoped>\n",
       "    .dataframe tbody tr th:only-of-type {\n",
       "        vertical-align: middle;\n",
       "    }\n",
       "\n",
       "    .dataframe tbody tr th {\n",
       "        vertical-align: top;\n",
       "    }\n",
       "\n",
       "    .dataframe thead th {\n",
       "        text-align: right;\n",
       "    }\n",
       "</style>\n",
       "<table border=\"1\" class=\"dataframe\">\n",
       "  <thead>\n",
       "    <tr style=\"text-align: right;\">\n",
       "      <th></th>\n",
       "      <th>Digester Type</th>\n",
       "      <th>Animal/Farm Type(s)</th>\n",
       "      <th>Cattle</th>\n",
       "      <th>Dairy</th>\n",
       "      <th>Poultry</th>\n",
       "      <th>Swine</th>\n",
       "      <th>Biogas Generation Estimate (cu-ft/day)</th>\n",
       "      <th>Total Emission Reductions (MTCO2e/yr)</th>\n",
       "    </tr>\n",
       "  </thead>\n",
       "  <tbody>\n",
       "    <tr>\n",
       "      <th>0</th>\n",
       "      <td>Covered Lagoon</td>\n",
       "      <td>Swine</td>\n",
       "      <td>NaN</td>\n",
       "      <td>NaN</td>\n",
       "      <td>NaN</td>\n",
       "      <td>4200.0</td>\n",
       "      <td>1814400.0</td>\n",
       "      <td>4482.755303</td>\n",
       "    </tr>\n",
       "    <tr>\n",
       "      <th>1</th>\n",
       "      <td>Mixed Plug Flow</td>\n",
       "      <td>Dairy</td>\n",
       "      <td>NaN</td>\n",
       "      <td>11760.0</td>\n",
       "      <td>NaN</td>\n",
       "      <td>NaN</td>\n",
       "      <td>NaN</td>\n",
       "      <td>14030.128975</td>\n",
       "    </tr>\n",
       "    <tr>\n",
       "      <th>2</th>\n",
       "      <td>Unknown or Unspecified</td>\n",
       "      <td>Dairy</td>\n",
       "      <td>NaN</td>\n",
       "      <td>8800.0</td>\n",
       "      <td>NaN</td>\n",
       "      <td>NaN</td>\n",
       "      <td>NaN</td>\n",
       "      <td>98999.890159</td>\n",
       "    </tr>\n",
       "    <tr>\n",
       "      <th>3</th>\n",
       "      <td>Complete Mix</td>\n",
       "      <td>Dairy</td>\n",
       "      <td>NaN</td>\n",
       "      <td>30000.0</td>\n",
       "      <td>NaN</td>\n",
       "      <td>NaN</td>\n",
       "      <td>3454500.0</td>\n",
       "      <td>337499.625540</td>\n",
       "    </tr>\n",
       "    <tr>\n",
       "      <th>4</th>\n",
       "      <td>Complete Mix</td>\n",
       "      <td>Dairy</td>\n",
       "      <td>NaN</td>\n",
       "      <td>10000.0</td>\n",
       "      <td>NaN</td>\n",
       "      <td>NaN</td>\n",
       "      <td>NaN</td>\n",
       "      <td>100569.493399</td>\n",
       "    </tr>\n",
       "  </tbody>\n",
       "</table>\n",
       "</div>"
      ],
      "text/plain": [
       "            Digester Type Animal/Farm Type(s)  Cattle    Dairy  Poultry  \\\n",
       "0          Covered Lagoon               Swine     NaN      NaN      NaN   \n",
       "1         Mixed Plug Flow               Dairy     NaN  11760.0      NaN   \n",
       "2  Unknown or Unspecified               Dairy     NaN   8800.0      NaN   \n",
       "3            Complete Mix               Dairy     NaN  30000.0      NaN   \n",
       "4            Complete Mix               Dairy     NaN  10000.0      NaN   \n",
       "\n",
       "    Swine  Biogas Generation Estimate (cu-ft/day)  \\\n",
       "0  4200.0                               1814400.0   \n",
       "1     NaN                                     NaN   \n",
       "2     NaN                                     NaN   \n",
       "3     NaN                               3454500.0   \n",
       "4     NaN                                     NaN   \n",
       "\n",
       "   Total Emission Reductions (MTCO2e/yr)  \n",
       "0                            4482.755303  \n",
       "1                           14030.128975  \n",
       "2                           98999.890159  \n",
       "3                          337499.625540  \n",
       "4                          100569.493399  "
      ]
     },
     "execution_count": 233,
     "metadata": {},
     "output_type": "execute_result"
    }
   ],
   "source": [
    "columns_to_drop = ['Co-Digestion']\n",
    "data_0.drop(columns=columns_to_drop, inplace=True)\n",
    "data_0.head()"
   ]
  },
  {
   "cell_type": "code",
   "execution_count": 234,
   "id": "065a2332-c04e-4c5b-92da-a552fa8d1721",
   "metadata": {},
   "outputs": [],
   "source": [
    "data_0['Quantity'] = data_0[['Cattle', 'Dairy', 'Poultry', 'Swine']].sum(axis=1)"
   ]
  },
  {
   "cell_type": "code",
   "execution_count": 235,
   "id": "866d568e-c1d5-4eb7-a2b7-a363d9b1c5c7",
   "metadata": {},
   "outputs": [
    {
     "data": {
      "text/html": [
       "<div>\n",
       "<style scoped>\n",
       "    .dataframe tbody tr th:only-of-type {\n",
       "        vertical-align: middle;\n",
       "    }\n",
       "\n",
       "    .dataframe tbody tr th {\n",
       "        vertical-align: top;\n",
       "    }\n",
       "\n",
       "    .dataframe thead th {\n",
       "        text-align: right;\n",
       "    }\n",
       "</style>\n",
       "<table border=\"1\" class=\"dataframe\">\n",
       "  <thead>\n",
       "    <tr style=\"text-align: right;\">\n",
       "      <th></th>\n",
       "      <th>Digester Type</th>\n",
       "      <th>Animal/Farm Type(s)</th>\n",
       "      <th>Cattle</th>\n",
       "      <th>Dairy</th>\n",
       "      <th>Poultry</th>\n",
       "      <th>Swine</th>\n",
       "      <th>Biogas Generation Estimate (cu-ft/day)</th>\n",
       "      <th>Total Emission Reductions (MTCO2e/yr)</th>\n",
       "      <th>Quantity</th>\n",
       "    </tr>\n",
       "  </thead>\n",
       "  <tbody>\n",
       "    <tr>\n",
       "      <th>0</th>\n",
       "      <td>Covered Lagoon</td>\n",
       "      <td>Swine</td>\n",
       "      <td>NaN</td>\n",
       "      <td>NaN</td>\n",
       "      <td>NaN</td>\n",
       "      <td>4200.0</td>\n",
       "      <td>1814400.0</td>\n",
       "      <td>4482.755303</td>\n",
       "      <td>4200.0</td>\n",
       "    </tr>\n",
       "    <tr>\n",
       "      <th>1</th>\n",
       "      <td>Mixed Plug Flow</td>\n",
       "      <td>Dairy</td>\n",
       "      <td>NaN</td>\n",
       "      <td>11760.0</td>\n",
       "      <td>NaN</td>\n",
       "      <td>NaN</td>\n",
       "      <td>NaN</td>\n",
       "      <td>14030.128975</td>\n",
       "      <td>11760.0</td>\n",
       "    </tr>\n",
       "    <tr>\n",
       "      <th>2</th>\n",
       "      <td>Unknown or Unspecified</td>\n",
       "      <td>Dairy</td>\n",
       "      <td>NaN</td>\n",
       "      <td>8800.0</td>\n",
       "      <td>NaN</td>\n",
       "      <td>NaN</td>\n",
       "      <td>NaN</td>\n",
       "      <td>98999.890159</td>\n",
       "      <td>8800.0</td>\n",
       "    </tr>\n",
       "    <tr>\n",
       "      <th>3</th>\n",
       "      <td>Complete Mix</td>\n",
       "      <td>Dairy</td>\n",
       "      <td>NaN</td>\n",
       "      <td>30000.0</td>\n",
       "      <td>NaN</td>\n",
       "      <td>NaN</td>\n",
       "      <td>3454500.0</td>\n",
       "      <td>337499.625540</td>\n",
       "      <td>30000.0</td>\n",
       "    </tr>\n",
       "    <tr>\n",
       "      <th>4</th>\n",
       "      <td>Complete Mix</td>\n",
       "      <td>Dairy</td>\n",
       "      <td>NaN</td>\n",
       "      <td>10000.0</td>\n",
       "      <td>NaN</td>\n",
       "      <td>NaN</td>\n",
       "      <td>NaN</td>\n",
       "      <td>100569.493399</td>\n",
       "      <td>10000.0</td>\n",
       "    </tr>\n",
       "  </tbody>\n",
       "</table>\n",
       "</div>"
      ],
      "text/plain": [
       "            Digester Type Animal/Farm Type(s)  Cattle    Dairy  Poultry  \\\n",
       "0          Covered Lagoon               Swine     NaN      NaN      NaN   \n",
       "1         Mixed Plug Flow               Dairy     NaN  11760.0      NaN   \n",
       "2  Unknown or Unspecified               Dairy     NaN   8800.0      NaN   \n",
       "3            Complete Mix               Dairy     NaN  30000.0      NaN   \n",
       "4            Complete Mix               Dairy     NaN  10000.0      NaN   \n",
       "\n",
       "    Swine  Biogas Generation Estimate (cu-ft/day)  \\\n",
       "0  4200.0                               1814400.0   \n",
       "1     NaN                                     NaN   \n",
       "2     NaN                                     NaN   \n",
       "3     NaN                               3454500.0   \n",
       "4     NaN                                     NaN   \n",
       "\n",
       "   Total Emission Reductions (MTCO2e/yr)  Quantity  \n",
       "0                            4482.755303    4200.0  \n",
       "1                           14030.128975   11760.0  \n",
       "2                           98999.890159    8800.0  \n",
       "3                          337499.625540   30000.0  \n",
       "4                          100569.493399   10000.0  "
      ]
     },
     "execution_count": 235,
     "metadata": {},
     "output_type": "execute_result"
    }
   ],
   "source": [
    "data_0.head()"
   ]
  },
  {
   "cell_type": "code",
   "execution_count": 236,
   "id": "f678778d-9377-454b-8eee-0b9ba8e40936",
   "metadata": {},
   "outputs": [],
   "source": [
    "data_0.fillna(0, inplace=True)"
   ]
  },
  {
   "cell_type": "code",
   "execution_count": 237,
   "id": "6925ffcd-da92-420b-8935-64d6b62708a9",
   "metadata": {},
   "outputs": [
    {
     "data": {
      "text/html": [
       "<div>\n",
       "<style scoped>\n",
       "    .dataframe tbody tr th:only-of-type {\n",
       "        vertical-align: middle;\n",
       "    }\n",
       "\n",
       "    .dataframe tbody tr th {\n",
       "        vertical-align: top;\n",
       "    }\n",
       "\n",
       "    .dataframe thead th {\n",
       "        text-align: right;\n",
       "    }\n",
       "</style>\n",
       "<table border=\"1\" class=\"dataframe\">\n",
       "  <thead>\n",
       "    <tr style=\"text-align: right;\">\n",
       "      <th></th>\n",
       "      <th>Digester Type</th>\n",
       "      <th>Animal/Farm Type(s)</th>\n",
       "      <th>Cattle</th>\n",
       "      <th>Dairy</th>\n",
       "      <th>Poultry</th>\n",
       "      <th>Swine</th>\n",
       "      <th>Biogas Generation Estimate (cu-ft/day)</th>\n",
       "      <th>Total Emission Reductions (MTCO2e/yr)</th>\n",
       "      <th>Quantity</th>\n",
       "    </tr>\n",
       "  </thead>\n",
       "  <tbody>\n",
       "    <tr>\n",
       "      <th>0</th>\n",
       "      <td>Covered Lagoon</td>\n",
       "      <td>Swine</td>\n",
       "      <td>0.0</td>\n",
       "      <td>0.0</td>\n",
       "      <td>0.0</td>\n",
       "      <td>4200.0</td>\n",
       "      <td>1814400.0</td>\n",
       "      <td>4482.755303</td>\n",
       "      <td>4200.0</td>\n",
       "    </tr>\n",
       "    <tr>\n",
       "      <th>1</th>\n",
       "      <td>Mixed Plug Flow</td>\n",
       "      <td>Dairy</td>\n",
       "      <td>0.0</td>\n",
       "      <td>11760.0</td>\n",
       "      <td>0.0</td>\n",
       "      <td>0.0</td>\n",
       "      <td>0.0</td>\n",
       "      <td>14030.128975</td>\n",
       "      <td>11760.0</td>\n",
       "    </tr>\n",
       "    <tr>\n",
       "      <th>2</th>\n",
       "      <td>Unknown or Unspecified</td>\n",
       "      <td>Dairy</td>\n",
       "      <td>0.0</td>\n",
       "      <td>8800.0</td>\n",
       "      <td>0.0</td>\n",
       "      <td>0.0</td>\n",
       "      <td>0.0</td>\n",
       "      <td>98999.890159</td>\n",
       "      <td>8800.0</td>\n",
       "    </tr>\n",
       "    <tr>\n",
       "      <th>3</th>\n",
       "      <td>Complete Mix</td>\n",
       "      <td>Dairy</td>\n",
       "      <td>0.0</td>\n",
       "      <td>30000.0</td>\n",
       "      <td>0.0</td>\n",
       "      <td>0.0</td>\n",
       "      <td>3454500.0</td>\n",
       "      <td>337499.625540</td>\n",
       "      <td>30000.0</td>\n",
       "    </tr>\n",
       "    <tr>\n",
       "      <th>4</th>\n",
       "      <td>Complete Mix</td>\n",
       "      <td>Dairy</td>\n",
       "      <td>0.0</td>\n",
       "      <td>10000.0</td>\n",
       "      <td>0.0</td>\n",
       "      <td>0.0</td>\n",
       "      <td>0.0</td>\n",
       "      <td>100569.493399</td>\n",
       "      <td>10000.0</td>\n",
       "    </tr>\n",
       "  </tbody>\n",
       "</table>\n",
       "</div>"
      ],
      "text/plain": [
       "            Digester Type Animal/Farm Type(s)  Cattle    Dairy  Poultry  \\\n",
       "0          Covered Lagoon               Swine     0.0      0.0      0.0   \n",
       "1         Mixed Plug Flow               Dairy     0.0  11760.0      0.0   \n",
       "2  Unknown or Unspecified               Dairy     0.0   8800.0      0.0   \n",
       "3            Complete Mix               Dairy     0.0  30000.0      0.0   \n",
       "4            Complete Mix               Dairy     0.0  10000.0      0.0   \n",
       "\n",
       "    Swine  Biogas Generation Estimate (cu-ft/day)  \\\n",
       "0  4200.0                               1814400.0   \n",
       "1     0.0                                     0.0   \n",
       "2     0.0                                     0.0   \n",
       "3     0.0                               3454500.0   \n",
       "4     0.0                                     0.0   \n",
       "\n",
       "   Total Emission Reductions (MTCO2e/yr)  Quantity  \n",
       "0                            4482.755303    4200.0  \n",
       "1                           14030.128975   11760.0  \n",
       "2                           98999.890159    8800.0  \n",
       "3                          337499.625540   30000.0  \n",
       "4                          100569.493399   10000.0  "
      ]
     },
     "execution_count": 237,
     "metadata": {},
     "output_type": "execute_result"
    }
   ],
   "source": [
    "data_0.head()"
   ]
  },
  {
   "cell_type": "code",
   "execution_count": 238,
   "id": "65e3cc34-1699-450a-95e3-deb6cf0e31bc",
   "metadata": {},
   "outputs": [
    {
     "data": {
      "text/html": [
       "<div>\n",
       "<style scoped>\n",
       "    .dataframe tbody tr th:only-of-type {\n",
       "        vertical-align: middle;\n",
       "    }\n",
       "\n",
       "    .dataframe tbody tr th {\n",
       "        vertical-align: top;\n",
       "    }\n",
       "\n",
       "    .dataframe thead th {\n",
       "        text-align: right;\n",
       "    }\n",
       "</style>\n",
       "<table border=\"1\" class=\"dataframe\">\n",
       "  <thead>\n",
       "    <tr style=\"text-align: right;\">\n",
       "      <th></th>\n",
       "      <th>Cattle</th>\n",
       "      <th>Dairy</th>\n",
       "      <th>Poultry</th>\n",
       "      <th>Swine</th>\n",
       "      <th>Total waste kg/day</th>\n",
       "    </tr>\n",
       "  </thead>\n",
       "  <tbody>\n",
       "    <tr>\n",
       "      <th>0</th>\n",
       "      <td>0.0</td>\n",
       "      <td>0.0</td>\n",
       "      <td>0.0</td>\n",
       "      <td>4200.0</td>\n",
       "      <td>23940.0</td>\n",
       "    </tr>\n",
       "    <tr>\n",
       "      <th>1</th>\n",
       "      <td>0.0</td>\n",
       "      <td>11760.0</td>\n",
       "      <td>0.0</td>\n",
       "      <td>0.0</td>\n",
       "      <td>799680.0</td>\n",
       "    </tr>\n",
       "    <tr>\n",
       "      <th>2</th>\n",
       "      <td>0.0</td>\n",
       "      <td>8800.0</td>\n",
       "      <td>0.0</td>\n",
       "      <td>0.0</td>\n",
       "      <td>598400.0</td>\n",
       "    </tr>\n",
       "    <tr>\n",
       "      <th>3</th>\n",
       "      <td>0.0</td>\n",
       "      <td>30000.0</td>\n",
       "      <td>0.0</td>\n",
       "      <td>0.0</td>\n",
       "      <td>2040000.0</td>\n",
       "    </tr>\n",
       "    <tr>\n",
       "      <th>4</th>\n",
       "      <td>0.0</td>\n",
       "      <td>10000.0</td>\n",
       "      <td>0.0</td>\n",
       "      <td>0.0</td>\n",
       "      <td>680000.0</td>\n",
       "    </tr>\n",
       "  </tbody>\n",
       "</table>\n",
       "</div>"
      ],
      "text/plain": [
       "   Cattle    Dairy  Poultry   Swine  Total waste kg/day\n",
       "0     0.0      0.0      0.0  4200.0             23940.0\n",
       "1     0.0  11760.0      0.0     0.0            799680.0\n",
       "2     0.0   8800.0      0.0     0.0            598400.0\n",
       "3     0.0  30000.0      0.0     0.0           2040000.0\n",
       "4     0.0  10000.0      0.0     0.0            680000.0"
      ]
     },
     "execution_count": 238,
     "metadata": {},
     "output_type": "execute_result"
    }
   ],
   "source": [
    "data_0['Total waste kg/day']= (data_0['Cattle'] *36.9) +\\\n",
    "                                (data_0['Dairy'] *68) +\\\n",
    "                                (data_0['Poultry'] *0.28)+\\\n",
    "                                 (data_0['Swine'] *5.7)\n",
    "data_0[['Cattle', 'Dairy', 'Poultry', 'Swine', 'Total waste kg/day']].head()"
   ]
  },
  {
   "cell_type": "code",
   "execution_count": 239,
   "id": "528b6b79-740c-4e5c-b480-d15f6edd2704",
   "metadata": {},
   "outputs": [
    {
     "data": {
      "text/html": [
       "<div>\n",
       "<style scoped>\n",
       "    .dataframe tbody tr th:only-of-type {\n",
       "        vertical-align: middle;\n",
       "    }\n",
       "\n",
       "    .dataframe tbody tr th {\n",
       "        vertical-align: top;\n",
       "    }\n",
       "\n",
       "    .dataframe thead th {\n",
       "        text-align: right;\n",
       "    }\n",
       "</style>\n",
       "<table border=\"1\" class=\"dataframe\">\n",
       "  <thead>\n",
       "    <tr style=\"text-align: right;\">\n",
       "      <th></th>\n",
       "      <th>Digester Type</th>\n",
       "      <th>Animal/Farm Type(s)</th>\n",
       "      <th>Cattle</th>\n",
       "      <th>Dairy</th>\n",
       "      <th>Poultry</th>\n",
       "      <th>Swine</th>\n",
       "      <th>Biogas Generation Estimate (cu-ft/day)</th>\n",
       "      <th>Total Emission Reductions (MTCO2e/yr)</th>\n",
       "      <th>Quantity</th>\n",
       "      <th>Total waste kg/day</th>\n",
       "    </tr>\n",
       "  </thead>\n",
       "  <tbody>\n",
       "    <tr>\n",
       "      <th>0</th>\n",
       "      <td>Covered Lagoon</td>\n",
       "      <td>Swine</td>\n",
       "      <td>0.0</td>\n",
       "      <td>0.0</td>\n",
       "      <td>0.0</td>\n",
       "      <td>4200.0</td>\n",
       "      <td>1814400.0</td>\n",
       "      <td>4482.755303</td>\n",
       "      <td>4200.0</td>\n",
       "      <td>23940.0</td>\n",
       "    </tr>\n",
       "    <tr>\n",
       "      <th>1</th>\n",
       "      <td>Mixed Plug Flow</td>\n",
       "      <td>Dairy</td>\n",
       "      <td>0.0</td>\n",
       "      <td>11760.0</td>\n",
       "      <td>0.0</td>\n",
       "      <td>0.0</td>\n",
       "      <td>0.0</td>\n",
       "      <td>14030.128975</td>\n",
       "      <td>11760.0</td>\n",
       "      <td>799680.0</td>\n",
       "    </tr>\n",
       "    <tr>\n",
       "      <th>2</th>\n",
       "      <td>Unknown or Unspecified</td>\n",
       "      <td>Dairy</td>\n",
       "      <td>0.0</td>\n",
       "      <td>8800.0</td>\n",
       "      <td>0.0</td>\n",
       "      <td>0.0</td>\n",
       "      <td>0.0</td>\n",
       "      <td>98999.890159</td>\n",
       "      <td>8800.0</td>\n",
       "      <td>598400.0</td>\n",
       "    </tr>\n",
       "    <tr>\n",
       "      <th>3</th>\n",
       "      <td>Complete Mix</td>\n",
       "      <td>Dairy</td>\n",
       "      <td>0.0</td>\n",
       "      <td>30000.0</td>\n",
       "      <td>0.0</td>\n",
       "      <td>0.0</td>\n",
       "      <td>3454500.0</td>\n",
       "      <td>337499.625540</td>\n",
       "      <td>30000.0</td>\n",
       "      <td>2040000.0</td>\n",
       "    </tr>\n",
       "    <tr>\n",
       "      <th>4</th>\n",
       "      <td>Complete Mix</td>\n",
       "      <td>Dairy</td>\n",
       "      <td>0.0</td>\n",
       "      <td>10000.0</td>\n",
       "      <td>0.0</td>\n",
       "      <td>0.0</td>\n",
       "      <td>0.0</td>\n",
       "      <td>100569.493399</td>\n",
       "      <td>10000.0</td>\n",
       "      <td>680000.0</td>\n",
       "    </tr>\n",
       "  </tbody>\n",
       "</table>\n",
       "</div>"
      ],
      "text/plain": [
       "            Digester Type Animal/Farm Type(s)  Cattle    Dairy  Poultry  \\\n",
       "0          Covered Lagoon               Swine     0.0      0.0      0.0   \n",
       "1         Mixed Plug Flow               Dairy     0.0  11760.0      0.0   \n",
       "2  Unknown or Unspecified               Dairy     0.0   8800.0      0.0   \n",
       "3            Complete Mix               Dairy     0.0  30000.0      0.0   \n",
       "4            Complete Mix               Dairy     0.0  10000.0      0.0   \n",
       "\n",
       "    Swine  Biogas Generation Estimate (cu-ft/day)  \\\n",
       "0  4200.0                               1814400.0   \n",
       "1     0.0                                     0.0   \n",
       "2     0.0                                     0.0   \n",
       "3     0.0                               3454500.0   \n",
       "4     0.0                                     0.0   \n",
       "\n",
       "   Total Emission Reductions (MTCO2e/yr)  Quantity  Total waste kg/day  \n",
       "0                            4482.755303    4200.0             23940.0  \n",
       "1                           14030.128975   11760.0            799680.0  \n",
       "2                           98999.890159    8800.0            598400.0  \n",
       "3                          337499.625540   30000.0           2040000.0  \n",
       "4                          100569.493399   10000.0            680000.0  "
      ]
     },
     "execution_count": 239,
     "metadata": {},
     "output_type": "execute_result"
    }
   ],
   "source": [
    "data_0.head()"
   ]
  },
  {
   "cell_type": "code",
   "execution_count": 240,
   "id": "233f8ef7-2e83-4119-9d2a-51839bbcce43",
   "metadata": {},
   "outputs": [
    {
     "data": {
      "text/html": [
       "<div>\n",
       "<style scoped>\n",
       "    .dataframe tbody tr th:only-of-type {\n",
       "        vertical-align: middle;\n",
       "    }\n",
       "\n",
       "    .dataframe tbody tr th {\n",
       "        vertical-align: top;\n",
       "    }\n",
       "\n",
       "    .dataframe thead th {\n",
       "        text-align: right;\n",
       "    }\n",
       "</style>\n",
       "<table border=\"1\" class=\"dataframe\">\n",
       "  <thead>\n",
       "    <tr style=\"text-align: right;\">\n",
       "      <th></th>\n",
       "      <th>Digester Type</th>\n",
       "      <th>Animal/Farm Type(s)</th>\n",
       "      <th>Biogas Generation Estimate (cu-ft/day)</th>\n",
       "      <th>Quantity</th>\n",
       "      <th>Total waste kg/day</th>\n",
       "    </tr>\n",
       "  </thead>\n",
       "  <tbody>\n",
       "    <tr>\n",
       "      <th>0</th>\n",
       "      <td>Covered Lagoon</td>\n",
       "      <td>Swine</td>\n",
       "      <td>1814400.0</td>\n",
       "      <td>4200.0</td>\n",
       "      <td>23940.0</td>\n",
       "    </tr>\n",
       "    <tr>\n",
       "      <th>1</th>\n",
       "      <td>Mixed Plug Flow</td>\n",
       "      <td>Dairy</td>\n",
       "      <td>0.0</td>\n",
       "      <td>11760.0</td>\n",
       "      <td>799680.0</td>\n",
       "    </tr>\n",
       "    <tr>\n",
       "      <th>2</th>\n",
       "      <td>Unknown or Unspecified</td>\n",
       "      <td>Dairy</td>\n",
       "      <td>0.0</td>\n",
       "      <td>8800.0</td>\n",
       "      <td>598400.0</td>\n",
       "    </tr>\n",
       "    <tr>\n",
       "      <th>3</th>\n",
       "      <td>Complete Mix</td>\n",
       "      <td>Dairy</td>\n",
       "      <td>3454500.0</td>\n",
       "      <td>30000.0</td>\n",
       "      <td>2040000.0</td>\n",
       "    </tr>\n",
       "    <tr>\n",
       "      <th>4</th>\n",
       "      <td>Complete Mix</td>\n",
       "      <td>Dairy</td>\n",
       "      <td>0.0</td>\n",
       "      <td>10000.0</td>\n",
       "      <td>680000.0</td>\n",
       "    </tr>\n",
       "  </tbody>\n",
       "</table>\n",
       "</div>"
      ],
      "text/plain": [
       "            Digester Type Animal/Farm Type(s)  \\\n",
       "0          Covered Lagoon               Swine   \n",
       "1         Mixed Plug Flow               Dairy   \n",
       "2  Unknown or Unspecified               Dairy   \n",
       "3            Complete Mix               Dairy   \n",
       "4            Complete Mix               Dairy   \n",
       "\n",
       "   Biogas Generation Estimate (cu-ft/day)  Quantity  Total waste kg/day  \n",
       "0                               1814400.0    4200.0             23940.0  \n",
       "1                                     0.0   11760.0            799680.0  \n",
       "2                                     0.0    8800.0            598400.0  \n",
       "3                               3454500.0   30000.0           2040000.0  \n",
       "4                                     0.0   10000.0            680000.0  "
      ]
     },
     "execution_count": 240,
     "metadata": {},
     "output_type": "execute_result"
    }
   ],
   "source": [
    "columns_to_drop = ['Total Emission Reductions (MTCO2e/yr)', 'Cattle', 'Dairy', 'Poultry', 'Swine']\n",
    "data_0.drop(columns=columns_to_drop, inplace=True)\n",
    "data_0.head()"
   ]
  },
  {
   "cell_type": "code",
   "execution_count": 241,
   "id": "c9461f4f-4b7f-4cda-a6da-ee90ede962ca",
   "metadata": {},
   "outputs": [
    {
     "data": {
      "text/plain": [
       "Digester Type                             0\n",
       "Animal/Farm Type(s)                       0\n",
       "Biogas Generation Estimate (cu-ft/day)    0\n",
       "Quantity                                  0\n",
       "Total waste kg/day                        0\n",
       "dtype: int64"
      ]
     },
     "execution_count": 241,
     "metadata": {},
     "output_type": "execute_result"
    }
   ],
   "source": [
    "data_0.isnull().sum()"
   ]
  },
  {
   "cell_type": "code",
   "execution_count": 242,
   "id": "6677c159-4288-4d30-a622-2dad054b3fb7",
   "metadata": {},
   "outputs": [
    {
     "data": {
      "text/html": [
       "<div>\n",
       "<style scoped>\n",
       "    .dataframe tbody tr th:only-of-type {\n",
       "        vertical-align: middle;\n",
       "    }\n",
       "\n",
       "    .dataframe tbody tr th {\n",
       "        vertical-align: top;\n",
       "    }\n",
       "\n",
       "    .dataframe thead th {\n",
       "        text-align: right;\n",
       "    }\n",
       "</style>\n",
       "<table border=\"1\" class=\"dataframe\">\n",
       "  <thead>\n",
       "    <tr style=\"text-align: right;\">\n",
       "      <th></th>\n",
       "      <th>Digester Type</th>\n",
       "      <th>Animal/Farm Type(s)</th>\n",
       "      <th>Biogas Generation Estimate (cu-ft/day)</th>\n",
       "      <th>Quantity</th>\n",
       "      <th>Total waste kg/day</th>\n",
       "    </tr>\n",
       "  </thead>\n",
       "  <tbody>\n",
       "    <tr>\n",
       "      <th>0</th>\n",
       "      <td>Covered Lagoon</td>\n",
       "      <td>Swine</td>\n",
       "      <td>1814400.0</td>\n",
       "      <td>4200.0</td>\n",
       "      <td>23940.0</td>\n",
       "    </tr>\n",
       "    <tr>\n",
       "      <th>1</th>\n",
       "      <td>Mixed Plug Flow</td>\n",
       "      <td>Dairy</td>\n",
       "      <td>0.0</td>\n",
       "      <td>11760.0</td>\n",
       "      <td>799680.0</td>\n",
       "    </tr>\n",
       "    <tr>\n",
       "      <th>2</th>\n",
       "      <td>Unknown or Unspecified</td>\n",
       "      <td>Dairy</td>\n",
       "      <td>0.0</td>\n",
       "      <td>8800.0</td>\n",
       "      <td>598400.0</td>\n",
       "    </tr>\n",
       "    <tr>\n",
       "      <th>3</th>\n",
       "      <td>Complete Mix</td>\n",
       "      <td>Dairy</td>\n",
       "      <td>3454500.0</td>\n",
       "      <td>30000.0</td>\n",
       "      <td>2040000.0</td>\n",
       "    </tr>\n",
       "    <tr>\n",
       "      <th>4</th>\n",
       "      <td>Complete Mix</td>\n",
       "      <td>Dairy</td>\n",
       "      <td>0.0</td>\n",
       "      <td>10000.0</td>\n",
       "      <td>680000.0</td>\n",
       "    </tr>\n",
       "  </tbody>\n",
       "</table>\n",
       "</div>"
      ],
      "text/plain": [
       "            Digester Type Animal/Farm Type(s)  \\\n",
       "0          Covered Lagoon               Swine   \n",
       "1         Mixed Plug Flow               Dairy   \n",
       "2  Unknown or Unspecified               Dairy   \n",
       "3            Complete Mix               Dairy   \n",
       "4            Complete Mix               Dairy   \n",
       "\n",
       "   Biogas Generation Estimate (cu-ft/day)  Quantity  Total waste kg/day  \n",
       "0                               1814400.0    4200.0             23940.0  \n",
       "1                                     0.0   11760.0            799680.0  \n",
       "2                                     0.0    8800.0            598400.0  \n",
       "3                               3454500.0   30000.0           2040000.0  \n",
       "4                                     0.0   10000.0            680000.0  "
      ]
     },
     "execution_count": 242,
     "metadata": {},
     "output_type": "execute_result"
    }
   ],
   "source": [
    "data_1 = data_0.dropna()\n",
    "data_1.head()"
   ]
  },
  {
   "cell_type": "code",
   "execution_count": 243,
   "id": "0cadfe1a-3377-409c-93b8-ed750c1ebb9a",
   "metadata": {},
   "outputs": [],
   "source": [
    "data_1 = data_1[data_1['Biogas Generation Estimate (cu-ft/day)'] != 0.0]"
   ]
  },
  {
   "cell_type": "code",
   "execution_count": 244,
   "id": "d4be46aa-f903-44b5-bc86-42c6eb169fc0",
   "metadata": {},
   "outputs": [
    {
     "data": {
      "text/html": [
       "<div>\n",
       "<style scoped>\n",
       "    .dataframe tbody tr th:only-of-type {\n",
       "        vertical-align: middle;\n",
       "    }\n",
       "\n",
       "    .dataframe tbody tr th {\n",
       "        vertical-align: top;\n",
       "    }\n",
       "\n",
       "    .dataframe thead th {\n",
       "        text-align: right;\n",
       "    }\n",
       "</style>\n",
       "<table border=\"1\" class=\"dataframe\">\n",
       "  <thead>\n",
       "    <tr style=\"text-align: right;\">\n",
       "      <th></th>\n",
       "      <th>Digester Type</th>\n",
       "      <th>Animal/Farm Type(s)</th>\n",
       "      <th>Biogas Generation Estimate (cu-ft/day)</th>\n",
       "      <th>Quantity</th>\n",
       "      <th>Total waste kg/day</th>\n",
       "    </tr>\n",
       "  </thead>\n",
       "  <tbody>\n",
       "    <tr>\n",
       "      <th>0</th>\n",
       "      <td>Covered Lagoon</td>\n",
       "      <td>Swine</td>\n",
       "      <td>1814400.0</td>\n",
       "      <td>4200.0</td>\n",
       "      <td>23940.0</td>\n",
       "    </tr>\n",
       "    <tr>\n",
       "      <th>3</th>\n",
       "      <td>Complete Mix</td>\n",
       "      <td>Dairy</td>\n",
       "      <td>3454500.0</td>\n",
       "      <td>30000.0</td>\n",
       "      <td>2040000.0</td>\n",
       "    </tr>\n",
       "    <tr>\n",
       "      <th>9</th>\n",
       "      <td>Covered Lagoon</td>\n",
       "      <td>Dairy</td>\n",
       "      <td>600000.0</td>\n",
       "      <td>15500.0</td>\n",
       "      <td>1054000.0</td>\n",
       "    </tr>\n",
       "    <tr>\n",
       "      <th>10</th>\n",
       "      <td>Covered Lagoon</td>\n",
       "      <td>Dairy</td>\n",
       "      <td>50000.0</td>\n",
       "      <td>1700.0</td>\n",
       "      <td>115600.0</td>\n",
       "    </tr>\n",
       "    <tr>\n",
       "      <th>11</th>\n",
       "      <td>Covered Lagoon</td>\n",
       "      <td>Dairy</td>\n",
       "      <td>270000.0</td>\n",
       "      <td>9700.0</td>\n",
       "      <td>659600.0</td>\n",
       "    </tr>\n",
       "  </tbody>\n",
       "</table>\n",
       "</div>"
      ],
      "text/plain": [
       "     Digester Type Animal/Farm Type(s)  \\\n",
       "0   Covered Lagoon               Swine   \n",
       "3     Complete Mix               Dairy   \n",
       "9   Covered Lagoon               Dairy   \n",
       "10  Covered Lagoon               Dairy   \n",
       "11  Covered Lagoon               Dairy   \n",
       "\n",
       "    Biogas Generation Estimate (cu-ft/day)  Quantity  Total waste kg/day  \n",
       "0                                1814400.0    4200.0             23940.0  \n",
       "3                                3454500.0   30000.0           2040000.0  \n",
       "9                                 600000.0   15500.0           1054000.0  \n",
       "10                                 50000.0    1700.0            115600.0  \n",
       "11                                270000.0    9700.0            659600.0  "
      ]
     },
     "execution_count": 244,
     "metadata": {},
     "output_type": "execute_result"
    }
   ],
   "source": [
    "data_1.head()"
   ]
  },
  {
   "cell_type": "code",
   "execution_count": 245,
   "id": "94be335f-14c5-4d83-9ab2-a5db2c76b8cd",
   "metadata": {},
   "outputs": [
    {
     "data": {
      "text/plain": [
       "(232, 5)"
      ]
     },
     "execution_count": 245,
     "metadata": {},
     "output_type": "execute_result"
    }
   ],
   "source": [
    "data_1.shape"
   ]
  },
  {
   "cell_type": "code",
   "execution_count": 246,
   "id": "027aec3a-8833-4736-9361-63fd724f0aeb",
   "metadata": {},
   "outputs": [],
   "source": [
    "columns_to_drop = ['Animal/Farm Type(s)']\n",
    "data_1.drop(columns=columns_to_drop, inplace=True)"
   ]
  },
  {
   "cell_type": "code",
   "execution_count": 247,
   "id": "f00270f9-c6a0-4aea-88c3-132530b7e3bd",
   "metadata": {},
   "outputs": [
    {
     "data": {
      "text/plain": [
       "<Axes: xlabel='Digester Type'>"
      ]
     },
     "execution_count": 247,
     "metadata": {},
     "output_type": "execute_result"
    },
    {
     "data": {
      "image/png": "[encoded data removed]",
      "text/plain": [
       "<Figure size 640x480 with 1 Axes>"
      ]
     },
     "metadata": {},
     "output_type": "display_data"
    }
   ],
   "source": [
    "data_1['Digester Type'].value_counts().plot(kind='bar')"
   ]
  },
  {
   "cell_type": "code",
   "execution_count": 248,
   "id": "2387366a-5ba4-4977-8ebd-a39b9c390441",
   "metadata": {},
   "outputs": [],
   "source": [
    "# Specify the column name and the list of values to be deleted\n",
    "column_name = 'Digester Type'\n",
    "values_to_delete = ['Induced Blanket Reactor', 'Fixed Film/Attached Media', 'Modular Plug Flow', 'Unknown or Unspecified', 'Vertical Plug Flow', 'Plug Flow - Unspecified']\n",
    "\n",
    "# Filter out the rows\n",
    "data_1 = data_1[~data_1[column_name].isin(values_to_delete)]"
   ]
  },
  {
   "cell_type": "code",
   "execution_count": 249,
   "id": "fe324bb2-d426-4403-99f8-9f5b40be76d7",
   "metadata": {},
   "outputs": [
    {
     "data": {
      "text/plain": [
       "<Axes: xlabel='Digester Type'>"
      ]
     },
     "execution_count": 249,
     "metadata": {},
     "output_type": "execute_result"
    },
    {
     "data": {
      "image/png": "[encoded data removed]",
      "text/plain": [
       "<Figure size 640x480 with 1 Axes>"
      ]
     },
     "metadata": {},
     "output_type": "display_data"
    }
   ],
   "source": [
    "data_1['Digester Type'].value_counts().plot(kind='bar')"
   ]
  },
  {
   "cell_type": "code",
   "execution_count": 250,
   "id": "aef2c311-8426-43d9-9490-b909e11bf088",
   "metadata": {},
   "outputs": [],
   "source": [
    "#data_1['Animal/Farm Type(s)'].value_counts().plot(kind='bar')"
   ]
  },
  {
   "cell_type": "code",
   "execution_count": 251,
   "id": "5b12c284-942f-4c6a-b7c0-fa612ca1f8f5",
   "metadata": {},
   "outputs": [],
   "source": [
    "#data_1 = data_1[data_1['Digester Type'] != '4, 2, 6, 8, 9, 7']"
   ]
  },
  {
   "cell_type": "code",
   "execution_count": 252,
   "id": "37910b0c-ba32-4f84-8c7e-58930418cf6e",
   "metadata": {},
   "outputs": [],
   "source": [
    "#data_1['Digester Type'].value_counts().plot(kind='bar')"
   ]
  },
  {
   "cell_type": "markdown",
   "id": "47b7dccc-5c00-46cd-b9ea-c65aa8342a17",
   "metadata": {},
   "source": [
    "# Encoding "
   ]
  },
  {
   "cell_type": "code",
   "execution_count": 254,
   "id": "404f0fb9-5c9a-44a6-bae6-c962754457ec",
   "metadata": {},
   "outputs": [],
   "source": [
    "le = preprocessing.LabelEncoder()\n",
    "Digester_Type = le.fit_transform(data_1['Digester Type'])"
   ]
  },
  {
   "cell_type": "code",
   "execution_count": 255,
   "id": "2b8fb510-9ba7-48f2-a23f-90bd070ab14c",
   "metadata": {},
   "outputs": [],
   "source": [
    "#le = preprocessing.LabelEncoder()\n",
    "#Animal_Type = le.fit_transform(data_1['Animal/Farm Type(s)'])"
   ]
  },
  {
   "cell_type": "code",
   "execution_count": 256,
   "id": "972d4f8d-7298-45f8-85f0-a6d487fcca75",
   "metadata": {},
   "outputs": [],
   "source": [
    "data_1.iloc[:, 0] = Digester_Type"
   ]
  },
  {
   "cell_type": "code",
   "execution_count": 257,
   "id": "10067a0a-4798-47b7-aea1-9ecad34fb64c",
   "metadata": {},
   "outputs": [],
   "source": [
    "#data_1.iloc[:, 1] = Animal_Type"
   ]
  },
  {
   "cell_type": "code",
   "execution_count": 258,
   "id": "68d2fd04-eb14-4a61-8a3c-9ce8db77378c",
   "metadata": {},
   "outputs": [
    {
     "data": {
      "text/html": [
       "<div>\n",
       "<style scoped>\n",
       "    .dataframe tbody tr th:only-of-type {\n",
       "        vertical-align: middle;\n",
       "    }\n",
       "\n",
       "    .dataframe tbody tr th {\n",
       "        vertical-align: top;\n",
       "    }\n",
       "\n",
       "    .dataframe thead th {\n",
       "        text-align: right;\n",
       "    }\n",
       "</style>\n",
       "<table border=\"1\" class=\"dataframe\">\n",
       "  <thead>\n",
       "    <tr style=\"text-align: right;\">\n",
       "      <th></th>\n",
       "      <th>Digester Type</th>\n",
       "      <th>Biogas Generation Estimate (cu-ft/day)</th>\n",
       "      <th>Quantity</th>\n",
       "      <th>Total waste kg/day</th>\n",
       "    </tr>\n",
       "  </thead>\n",
       "  <tbody>\n",
       "    <tr>\n",
       "      <th>0</th>\n",
       "      <td>1</td>\n",
       "      <td>1814400.0</td>\n",
       "      <td>4200.0</td>\n",
       "      <td>23940.0</td>\n",
       "    </tr>\n",
       "    <tr>\n",
       "      <th>3</th>\n",
       "      <td>0</td>\n",
       "      <td>3454500.0</td>\n",
       "      <td>30000.0</td>\n",
       "      <td>2040000.0</td>\n",
       "    </tr>\n",
       "    <tr>\n",
       "      <th>9</th>\n",
       "      <td>1</td>\n",
       "      <td>600000.0</td>\n",
       "      <td>15500.0</td>\n",
       "      <td>1054000.0</td>\n",
       "    </tr>\n",
       "    <tr>\n",
       "      <th>10</th>\n",
       "      <td>1</td>\n",
       "      <td>50000.0</td>\n",
       "      <td>1700.0</td>\n",
       "      <td>115600.0</td>\n",
       "    </tr>\n",
       "    <tr>\n",
       "      <th>11</th>\n",
       "      <td>1</td>\n",
       "      <td>270000.0</td>\n",
       "      <td>9700.0</td>\n",
       "      <td>659600.0</td>\n",
       "    </tr>\n",
       "  </tbody>\n",
       "</table>\n",
       "</div>"
      ],
      "text/plain": [
       "   Digester Type  Biogas Generation Estimate (cu-ft/day)  Quantity  \\\n",
       "0              1                               1814400.0    4200.0   \n",
       "3              0                               3454500.0   30000.0   \n",
       "9              1                                600000.0   15500.0   \n",
       "10             1                                 50000.0    1700.0   \n",
       "11             1                                270000.0    9700.0   \n",
       "\n",
       "    Total waste kg/day  \n",
       "0              23940.0  \n",
       "3            2040000.0  \n",
       "9            1054000.0  \n",
       "10            115600.0  \n",
       "11            659600.0  "
      ]
     },
     "execution_count": 258,
     "metadata": {},
     "output_type": "execute_result"
    }
   ],
   "source": [
    "data_1.head()"
   ]
  },
  {
   "cell_type": "markdown",
   "id": "611fa252-9986-4c2f-892c-ee667f538fe6",
   "metadata": {},
   "source": [
    "# Split Dataset into Training and Test dataset"
   ]
  },
  {
   "cell_type": "code",
   "execution_count": 312,
   "id": "bf1f746c-0d4b-4fbc-b9e6-9c5621e6bd68",
   "metadata": {},
   "outputs": [],
   "source": [
    "features_bio = ['Digester Type', 'Total waste kg/day', 'Quantity']\n",
    "x = data_1[features_bio]\n",
    "y = data_1['Biogas Generation Estimate (cu-ft/day)']"
   ]
  },
  {
   "cell_type": "code",
   "execution_count": 313,
   "id": "8be23ed4-8c99-4598-95c4-4c9a02c61237",
   "metadata": {},
   "outputs": [],
   "source": [
    "x_train, x_test, y_train, y_test = train_test_split(x, y, test_size = 0.2, random_state = 0)"
   ]
  },
  {
   "cell_type": "code",
   "execution_count": 314,
   "id": "8a479a4a-b9de-4f55-8ca0-1f897906ffe2",
   "metadata": {},
   "outputs": [
    {
     "data": {
      "text/plain": [
       "'\\n# Transform my x data to include polynomial features\\n# After splitting\\npoly = PolynomialFeatures(degree=2)\\n\\n# Transform the training data\\nx_train_poly = poly.fit_transform(x_train)\\n\\n# Transform the testing data\\nx_test_poly = poly.transform(x_test)'"
      ]
     },
     "execution_count": 314,
     "metadata": {},
     "output_type": "execute_result"
    }
   ],
   "source": [
    "'''\n",
    "# Transform my x data to include polynomial features\n",
    "# After splitting\n",
    "poly = PolynomialFeatures(degree=2)\n",
    "\n",
    "# Transform the training data\n",
    "x_train_poly = poly.fit_transform(x_train)\n",
    "\n",
    "# Transform the testing data\n",
    "x_test_poly = poly.transform(x_test)'''"
   ]
  },
  {
   "cell_type": "markdown",
   "id": "e167acda-a513-443c-a85c-82d0563b1250",
   "metadata": {},
   "source": [
    "# Model Training"
   ]
  },
  {
   "cell_type": "code",
   "execution_count": 316,
   "id": "81ab870b-a3f1-49b5-98b3-e7f40fe9e1e7",
   "metadata": {},
   "outputs": [
    {
     "data": {
      "text/html": [
       "<style>#sk-container-id-4 {color: black;background-color: white;}#sk-container-id-4 pre{padding: 0;}#sk-container-id-4 div.sk-toggleable {background-color: white;}#sk-container-id-4 label.sk-toggleable__label {cursor: pointer;display: block;width: 100%;margin-bottom: 0;padding: 0.3em;box-sizing: border-box;text-align: center;}#sk-container-id-4 label.sk-toggleable__label-arrow:before {content: \"▸\";float: left;margin-right: 0.25em;color: #696969;}#sk-container-id-4 label.sk-toggleable__label-arrow:hover:before {color: black;}#sk-container-id-4 div.sk-estimator:hover label.sk-toggleable__label-arrow:before {color: black;}#sk-container-id-4 div.sk-toggleable__content {max-height: 0;max-width: 0;overflow: hidden;text-align: left;background-color: #f0f8ff;}#sk-container-id-4 div.sk-toggleable__content pre {margin: 0.2em;color: black;border-radius: 0.25em;background-color: #f0f8ff;}#sk-container-id-4 input.sk-toggleable__control:checked~div.sk-toggleable__content {max-height: 200px;max-width: 100%;overflow: auto;}#sk-container-id-4 input.sk-toggleable__control:checked~label.sk-toggleable__label-arrow:before {content: \"▾\";}#sk-container-id-4 div.sk-estimator input.sk-toggleable__control:checked~label.sk-toggleable__label {background-color: #d4ebff;}#sk-container-id-4 div.sk-label input.sk-toggleable__control:checked~label.sk-toggleable__label {background-color: #d4ebff;}#sk-container-id-4 input.sk-hidden--visually {border: 0;clip: rect(1px 1px 1px 1px);clip: rect(1px, 1px, 1px, 1px);height: 1px;margin: -1px;overflow: hidden;padding: 0;position: absolute;width: 1px;}#sk-container-id-4 div.sk-estimator {font-family: monospace;background-color: #f0f8ff;border: 1px dotted black;border-radius: 0.25em;box-sizing: border-box;margin-bottom: 0.5em;}#sk-container-id-4 div.sk-estimator:hover {background-color: #d4ebff;}#sk-container-id-4 div.sk-parallel-item::after {content: \"\";width: 100%;border-bottom: 1px solid gray;flex-grow: 1;}#sk-container-id-4 div.sk-label:hover label.sk-toggleable__label {background-color: #d4ebff;}#sk-container-id-4 div.sk-serial::before {content: \"\";position: absolute;border-left: 1px solid gray;box-sizing: border-box;top: 0;bottom: 0;left: 50%;z-index: 0;}#sk-container-id-4 div.sk-serial {display: flex;flex-direction: column;align-items: center;background-color: white;padding-right: 0.2em;padding-left: 0.2em;position: relative;}#sk-container-id-4 div.sk-item {position: relative;z-index: 1;}#sk-container-id-4 div.sk-parallel {display: flex;align-items: stretch;justify-content: center;background-color: white;position: relative;}#sk-container-id-4 div.sk-item::before, #sk-container-id-4 div.sk-parallel-item::before {content: \"\";position: absolute;border-left: 1px solid gray;box-sizing: border-box;top: 0;bottom: 0;left: 50%;z-index: -1;}#sk-container-id-4 div.sk-parallel-item {display: flex;flex-direction: column;z-index: 1;position: relative;background-color: white;}#sk-container-id-4 div.sk-parallel-item:first-child::after {align-self: flex-end;width: 50%;}#sk-container-id-4 div.sk-parallel-item:last-child::after {align-self: flex-start;width: 50%;}#sk-container-id-4 div.sk-parallel-item:only-child::after {width: 0;}#sk-container-id-4 div.sk-dashed-wrapped {border: 1px dashed gray;margin: 0 0.4em 0.5em 0.4em;box-sizing: border-box;padding-bottom: 0.4em;background-color: white;}#sk-container-id-4 div.sk-label label {font-family: monospace;font-weight: bold;display: inline-block;line-height: 1.2em;}#sk-container-id-4 div.sk-label-container {text-align: center;}#sk-container-id-4 div.sk-container {/* jupyter's `normalize.less` sets `[hidden] { display: none; }` but bootstrap.min.css set `[hidden] { display: none !important; }` so we also need the `!important` here to be able to override the default hidden behavior on the sphinx rendered scikit-learn.org. See: https://github.com/scikit-learn/scikit-learn/issues/21755 */display: inline-block !important;position: relative;}#sk-container-id-4 div.sk-text-repr-fallback {display: none;}</style><div id=\"sk-container-id-4\" class=\"sk-top-container\"><div class=\"sk-text-repr-fallback\"><pre>LinearRegression()</pre><b>In a Jupyter environment, please rerun this cell to show the HTML representation or trust the notebook. <br />On GitHub, the HTML representation is unable to render, please try loading this page with nbviewer.org.</b></div><div class=\"sk-container\" hidden><div class=\"sk-item\"><div class=\"sk-estimator sk-toggleable\"><input class=\"sk-toggleable__control sk-hidden--visually\" id=\"sk-estimator-id-4\" type=\"checkbox\" checked><label for=\"sk-estimator-id-4\" class=\"sk-toggleable__label sk-toggleable__label-arrow\">LinearRegression</label><div class=\"sk-toggleable__content\"><pre>LinearRegression()</pre></div></div></div></div></div>"
      ],
      "text/plain": [
       "LinearRegression()"
      ]
     },
     "execution_count": 316,
     "metadata": {},
     "output_type": "execute_result"
    }
   ],
   "source": [
    "model_R = LinearRegression()\n",
    "model_R.fit(x_train, y_train)\n",
    "#model_R.fit(x_train_poly, y_train)"
   ]
  },
  {
   "cell_type": "code",
   "execution_count": 317,
   "id": "86564b4d-dade-4fa8-95a7-6fdfd45d9931",
   "metadata": {},
   "outputs": [
    {
     "name": "stdout",
     "output_type": "stream",
     "text": [
      "[ 205038.80738828  188829.58062913  297869.89538769  246342.37321622\n",
      "  545289.63890121  215031.33309936  540178.87852938  328134.02396449\n",
      "  348581.93665156  246342.37321622  585777.72382154  382648.15918821\n",
      "  450821.50008689  160871.31598422  430373.58739983  178048.78044129\n",
      "  212397.62035575  216271.06237638  137285.86451536  141650.27805838\n",
      "  324046.87702696  183146.66162327  265153.23508838  181604.28164897\n",
      "  377209.01441345  945660.98711393  242660.53113261 1493665.04712733\n",
      "  208720.6494719   247772.50930438  430373.58739983  291735.52158157\n",
      "  159645.65902293  203605.01790031  343265.47935292  446731.91754948\n",
      "  272515.70145567  358805.89299509  589867.30635895  757637.20859484\n",
      "  274153.97007051  230391.78352037  249799.46014705  261885.22245827\n",
      "  148807.04749885]\n"
     ]
    }
   ],
   "source": [
    "y_pred = model_R.predict(x_test)\n",
    "print(y_pred)"
   ]
  },
  {
   "cell_type": "code",
   "execution_count": null,
   "id": "f677f1c9-90d2-4502-b39d-b4a17e387651",
   "metadata": {},
   "outputs": [],
   "source": []
  },
  {
   "cell_type": "code",
   "execution_count": 318,
   "id": "93dbe535-2376-48f0-9688-baf899184119",
   "metadata": {},
   "outputs": [
    {
     "name": "stdout",
     "output_type": "stream",
     "text": [
      "R-squared: 0.700845059222106\n"
     ]
    }
   ],
   "source": [
    "from sklearn.metrics import r2_score\n",
    "\n",
    "r2 = r2_score(y_test, y_pred)\n",
    "print(f\"R-squared: {r2}\")"
   ]
  },
  {
   "cell_type": "code",
   "execution_count": 319,
   "id": "8f83540b-d3b8-40c4-9e98-f7316c1fac78",
   "metadata": {},
   "outputs": [
    {
     "name": "stdout",
     "output_type": "stream",
     "text": [
      "Mean Absolute Error: 141221.70487792112\n"
     ]
    }
   ],
   "source": [
    "from sklearn.metrics import mean_absolute_error\n",
    "mae = mean_absolute_error(y_test, y_pred)\n",
    "print(f\"Mean Absolute Error: {mae}\")"
   ]
  },
  {
   "cell_type": "code",
   "execution_count": 320,
   "id": "10eedab4-2755-43b6-a89e-92a4d590daff",
   "metadata": {},
   "outputs": [
    {
     "name": "stdout",
     "output_type": "stream",
     "text": [
      "Mean squared Error: 34524957108.388756\n"
     ]
    }
   ],
   "source": [
    "from sklearn.metrics import mean_squared_error\n",
    "mse = mean_squared_error(y_test, y_pred)\n",
    "print(f\"Mean squared Error: {mse}\")"
   ]
  },
  {
   "cell_type": "code",
   "execution_count": 321,
   "id": "009834df-7282-41a6-a538-36f15c5bfced",
   "metadata": {},
   "outputs": [
    {
     "name": "stdout",
     "output_type": "stream",
     "text": [
      "Root Mean Squared Error: 185808.92634205913\n"
     ]
    }
   ],
   "source": [
    "rmse = mse ** 0.5\n",
    "print(f\"Root Mean Squared Error: {rmse}\")"
   ]
  },
  {
   "cell_type": "code",
   "execution_count": 322,
   "id": "75042c22-f322-43d5-a18c-42b3b096cb00",
   "metadata": {},
   "outputs": [
    {
     "data": {
      "image/png": "[encoded data removed]",
      "text/plain": [
       "<Figure size 640x480 with 1 Axes>"
      ]
     },
     "metadata": {},
     "output_type": "display_data"
    }
   ],
   "source": [
    "residuals = y_test - y_pred\n",
    "plt.scatter(y_pred, residuals)\n",
    "plt.xlabel('Predicted Values')\n",
    "plt.ylabel('Residuals')\n",
    "plt.title('Residuals vs Predicted Values')\n",
    "plt.show()"
   ]
  },
  {
   "cell_type": "code",
   "execution_count": null,
   "id": "e7c55f39-eddc-47ec-ac4c-4429bf4c75dd",
   "metadata": {},
   "outputs": [],
   "source": []
  }
 ],
 "metadata": {
  "kernelspec": {
   "display_name": "Python 3 (ipykernel)",
   "language": "python",
   "name": "python3"
  },
  "language_info": {
   "codemirror_mode": {
    "name": "ipython",
    "version": 3
   },
   "file_extension": ".py",
   "mimetype": "text/x-python",
   "name": "python",
   "nbconvert_exporter": "python",
   "pygments_lexer": "ipython3",
   "version": "3.11.7"
  }
 },
 "nbformat": 4,
 "nbformat_minor": 5
}
